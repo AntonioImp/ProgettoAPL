{
 "cells": [
  {
   "cell_type": "code",
   "execution_count": 1,
   "metadata": {},
   "outputs": [],
   "source": [
    "import sys\n",
    "\n",
    "sys.path.append('../')\n",
    "import Database.db_users as db_u"
   ]
  },
  {
   "cell_type": "code",
   "execution_count": 2,
   "metadata": {},
   "outputs": [],
   "source": [
    "class User:\n",
    "    \"\"\"Constructor user class accepts a dictionary with template (first parameter) as:\n",
    "    {'CF': '',\n",
    "      'name': '',\n",
    "      'surname': '',\n",
    "      'phone': '',\n",
    "      'mail': '',\n",
    "      'age': ,\n",
    "      'CAP': '',\n",
    "      'city': '',\n",
    "      'street': '',\n",
    "      'n_cv': }\n",
    "      and password as second parameter\"\"\"\n",
    "    \n",
    "    def __init__(self, user, *password):\n",
    "        if type(user) == str:\n",
    "            self.user = db_u.getUser(user)\n",
    "            if self.user != ():\n",
    "                self.user = self.user[0]\n",
    "                self.password = db_u.getPassword(user)[0][\"password\"]\n",
    "        else:\n",
    "            self.user = user\n",
    "            self.password = password[0]\n",
    "    \n",
    "    def getUser(self):\n",
    "        if self.user != ():\n",
    "            return self.user\n",
    "        else:\n",
    "            return False\n",
    "    \n",
    "    def getPassword(self):\n",
    "        if self.user != ():\n",
    "            return self.password\n",
    "        else:\n",
    "            return False\n",
    "    \n",
    "    def insertUser(self):\n",
    "        if self.user != ():\n",
    "            return db_u.insertUser(self.user, self.password)\n",
    "        else:\n",
    "            return False\n",
    "    \n",
    "    def updateUser(self, user):\n",
    "        if self.user != ():\n",
    "            res = db_u.updateUser(self.user[\"CF\"], user)\n",
    "            if res == True:\n",
    "                self.user = user\n",
    "            return res\n",
    "        else:\n",
    "            return False\n",
    "    \n",
    "    def updatePassword(self, password):\n",
    "        if self.user != ():\n",
    "            return db_u.updatePassword(self.user[\"CF\"], password)\n",
    "        else:\n",
    "            return False\n",
    "    \n",
    "    def deleteUser(self):\n",
    "        if self.user != ():\n",
    "            res = db_u.deleteUser(self.user[\"CF\"])\n",
    "            if res == True:\n",
    "                self.user = ()\n",
    "                self.password = \"\"\n",
    "            return res\n",
    "        else:\n",
    "            return False\n",
    "    "
   ]
  },
  {
   "cell_type": "code",
   "execution_count": 3,
   "metadata": {},
   "outputs": [
    {
     "name": "stdout",
     "output_type": "stream",
     "text": [
      "{'CF': 'A', 'name': 'A', 'surname': 'A', 'phone': 'A', 'mail': 'A@ok', 'age': 25, 'CAP': 'A', 'city': 'A', 'street': 'A', 'n_cv': 25}\n"
     ]
    }
   ],
   "source": [
    "user = User(\"A\")\n",
    "print(user.getUser())"
   ]
  },
  {
   "cell_type": "code",
   "execution_count": 4,
   "metadata": {},
   "outputs": [
    {
     "name": "stdout",
     "output_type": "stream",
     "text": [
      "{'CF': 'MPLNTN96S25F158E', 'name': 'Antonio', 'surname': 'Impalà', 'phone': '3453241991', 'mail': 'antonioimpala251196@gmail.com', 'age': 23, 'CAP': '98045', 'city': 'San Pier Niceto', 'street': 'Via Dott. Sen. Pietro Pitrone', 'n_cv': 134}\n"
     ]
    }
   ],
   "source": [
    "user = User({'CF': 'MPLNTN96S25F158E',\n",
    "              'name': 'Antonio',\n",
    "              'surname': 'Impalà',\n",
    "              'phone': '3453241991',\n",
    "              'mail': 'antonioimpala251196@gmail.com',\n",
    "              'age': 23,\n",
    "              'CAP': '98045',\n",
    "              'city': 'San Pier Niceto',\n",
    "              'street': 'Via Dott. Sen. Pietro Pitrone',\n",
    "              'n_cv': 134},\n",
    "               'cocchino')\n",
    "print(user.getUser())"
   ]
  },
  {
   "cell_type": "code",
   "execution_count": 5,
   "metadata": {},
   "outputs": [
    {
     "name": "stdout",
     "output_type": "stream",
     "text": [
      "(False, False)\n",
      "cocchino\n",
      "Constructor user class accepts a dictionary with template (first parameter) as:\n",
      "    {'CF': '',\n",
      "      'name': '',\n",
      "      'surname': '',\n",
      "      'phone': '',\n",
      "      'mail': '',\n",
      "      'age': ,\n",
      "      'CAP': '',\n",
      "      'city': '',\n",
      "      'street': '',\n",
      "      'n_cv': }\n",
      "      and password as second parameter\n",
      "{'CF': 'B', 'name': 'B', 'surname': 'B', 'phone': 'B', 'mail': 'B@ok', 'age': 25, 'CAP': 'B', 'city': 'B', 'street': 'B', 'n_cv': 25}\n",
      "B\n"
     ]
    }
   ],
   "source": [
    "newUser = User({'CF': 'B',\n",
    "              'name': 'B',\n",
    "              'surname': 'B',\n",
    "              'phone': 'B',\n",
    "              'mail': 'B@gmail.com',\n",
    "              'age': 23,\n",
    "              'CAP': 'B',\n",
    "              'city': 'B',\n",
    "              'street': 'B',\n",
    "              'n_cv': 134},\n",
    "              'B')\n",
    "print(newUser.insertUser())\n",
    "print(user.getPassword())\n",
    "user = User(\"B\")\n",
    "print(user.__doc__)\n",
    "print(user.getUser())\n",
    "print(user.getPassword())"
   ]
  },
  {
   "cell_type": "code",
   "execution_count": 6,
   "metadata": {},
   "outputs": [
    {
     "name": "stdout",
     "output_type": "stream",
     "text": [
      "False\n",
      "{'CF': 'B', 'name': 'B', 'surname': 'B', 'phone': 'B', 'mail': 'B@ok', 'age': 25, 'CAP': 'B', 'city': 'B', 'street': 'B', 'n_cv': 25}\n"
     ]
    }
   ],
   "source": [
    "user = User(\"B\")\n",
    "print(user.updateUser({'CF': 'C',\n",
    "                      'name': 'C',\n",
    "                      'surname': 'C',\n",
    "                      'phone': 'C',\n",
    "                      'mail': 'C@gmail.com',\n",
    "                      'age': 23,\n",
    "                      'CAP': 'C',\n",
    "                      'city': 'C',\n",
    "                      'street': 'C',\n",
    "                      'n_cv': 134}))\n",
    "print(user.getUser())"
   ]
  },
  {
   "cell_type": "code",
   "execution_count": 7,
   "metadata": {},
   "outputs": [
    {
     "name": "stdout",
     "output_type": "stream",
     "text": [
      "True\n",
      "False\n"
     ]
    }
   ],
   "source": [
    "user = User(\"C\")\n",
    "print(user.deleteUser())\n",
    "print(user.getUser())"
   ]
  },
  {
   "cell_type": "code",
   "execution_count": 8,
   "metadata": {},
   "outputs": [
    {
     "data": {
      "text/plain": [
       "False"
      ]
     },
     "execution_count": 8,
     "metadata": {},
     "output_type": "execute_result"
    }
   ],
   "source": [
    "user.getPassword()\n",
    "user.updatePassword(\"C\")"
   ]
  },
  {
   "cell_type": "code",
   "execution_count": 9,
   "metadata": {},
   "outputs": [],
   "source": [
    "import secrets\n",
    "import string\n",
    "\n",
    "def token_generator(size):\n",
    "    token = ''.join(secrets.choice(string.ascii_lowercase + string.ascii_uppercase + string.digits) for i in range(size))\n",
    "    return token"
   ]
  },
  {
   "cell_type": "code",
   "execution_count": 10,
   "metadata": {},
   "outputs": [
    {
     "data": {
      "text/plain": [
       "'DHNOluKpoN'"
      ]
     },
     "execution_count": 10,
     "metadata": {},
     "output_type": "execute_result"
    }
   ],
   "source": [
    "token_generator(10)"
   ]
  },
  {
   "cell_type": "code",
   "execution_count": 11,
   "metadata": {},
   "outputs": [
    {
     "name": "stdout",
     "output_type": "stream",
     "text": [
      "pJZEMnFeI5\n"
     ]
    },
    {
     "data": {
      "text/plain": [
       "str"
      ]
     },
     "execution_count": 11,
     "metadata": {},
     "output_type": "execute_result"
    }
   ],
   "source": [
    "token = ''.join(secrets.choice(string.ascii_lowercase + string.ascii_uppercase + string.digits) for i in range(10))\n",
    "print(token)\n",
    "type(token)"
   ]
  },
  {
   "cell_type": "code",
   "execution_count": null,
   "metadata": {},
   "outputs": [],
   "source": []
  }
 ],
 "metadata": {
  "kernelspec": {
   "display_name": "Python 3",
   "language": "python",
   "name": "python3"
  },
  "language_info": {
   "codemirror_mode": {
    "name": "ipython",
    "version": 3
   },
   "file_extension": ".py",
   "mimetype": "text/x-python",
   "name": "python",
   "nbconvert_exporter": "python",
   "pygments_lexer": "ipython3",
   "version": "3.8.3"
  }
 },
 "nbformat": 4,
 "nbformat_minor": 4
}
