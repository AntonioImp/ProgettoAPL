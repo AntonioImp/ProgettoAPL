{
 "cells": [
  {
   "cell_type": "code",
   "execution_count": 7,
   "metadata": {},
   "outputs": [
    {
     "output_type": "stream",
     "name": "stdout",
     "text": [
      "v\n2\n(1, 'A')\nreturn if assignment exists (0 is int, 1 is string)\nciao\n"
     ]
    }
   ],
   "source": [
    "v = 'v'\n",
    "def prova(*data):\n",
    "    global v \n",
    "    v = 'ciao'\n",
    "    print(len(data))\n",
    "    print(data)\n",
    "    if len(data) == 0:\n",
    "        print(\"return docs list\")\n",
    "    elif len(data) == 1:\n",
    "        if type(data[0]) == str:\n",
    "            print(\"return one doc list\")\n",
    "        else:\n",
    "            print(\"return doc in medical center\")\n",
    "    else:\n",
    "        if type(data[0]) == str:\n",
    "            print(\"return if assignment exists (0 is tring, 1 is int)\")\n",
    "        else:\n",
    "            print(\"return if assignment exists (0 is int, 1 is string)\")\n",
    "\n",
    "print(v)\n",
    "prova(1,'A')\n",
    "print(v)"
   ]
  },
  {
   "cell_type": "code",
   "execution_count": 2,
   "metadata": {},
   "outputs": [
    {
     "data": {
      "text/plain": [
       "False"
      ]
     },
     "execution_count": 2,
     "metadata": {},
     "output_type": "execute_result"
    }
   ],
   "source": [
    "import Class.medicalcenter as medicalcenter\n",
    "\n",
    "#help(medicalcenter.Medicalcenter(1))\n",
    "#print(medicalcenter.Medicalcenter(1).__doc__)\n",
    "med = medicalcenter.Medicalcenter(1)\n",
    "med.getMedicalcenter()"
   ]
  },
  {
   "cell_type": "code",
   "execution_count": 3,
   "metadata": {},
   "outputs": [
    {
     "name": "stdout",
     "output_type": "stream",
     "text": [
      "{'CF': 'A', 'name': 'A', 'surname': 'A', 'phone': 'A', 'mail': 'A@ok', 'age': 25, 'CAP': 'A', 'city': 'A', 'street': 'A', 'n_cv': 25}\n"
     ]
    }
   ],
   "source": [
    "import Class.user as u\n",
    "user = u.User('A')\n",
    "print(user.getUser())"
   ]
  },
  {
   "cell_type": "code",
   "execution_count": 4,
   "metadata": {},
   "outputs": [
    {
     "data": {
      "text/plain": [
       "10"
      ]
     },
     "execution_count": 4,
     "metadata": {},
     "output_type": "execute_result"
    }
   ],
   "source": [
    "token = \"123456789 \"\n",
    "len(token)"
   ]
  },
  {
   "cell_type": "code",
   "execution_count": 5,
   "metadata": {},
   "outputs": [
    {
     "name": "stdout",
     "output_type": "stream",
     "text": [
      "True\n"
     ]
    }
   ],
   "source": [
    "conf = (2 == 2)\n",
    "print(conf)"
   ]
  },
  {
   "cell_type": "code",
   "execution_count": 7,
   "metadata": {},
   "outputs": [
    {
     "name": "stdout",
     "output_type": "stream",
     "text": [
      "{'CF': 'A', 'name': 'A', 'surname': 'A', 'phone': 'A', 'mail': 'A'}\n",
      "{'CF': 'A', 'name': 'A', 'surname': 'A', 'phone': 'A', 'mail': 'A'}\n"
     ]
    },
    {
     "data": {
      "text/plain": [
       "True"
      ]
     },
     "execution_count": 7,
     "metadata": {},
     "output_type": "execute_result"
    }
   ],
   "source": [
    "docData = {\n",
    "            'CF': \"A\",\n",
    "            'name': \"A\",\n",
    "            'surname': \"A\",\n",
    "            'phone': \"A\",\n",
    "            'mail': \"A\"\n",
    "        }\n",
    "keys = ['CF', 'name', 'surname', 'phone', 'mail']\n",
    "values = [request.json[\"CF\"], request.json[\"name\"], request.json[\"surname\"], request.json[\"phone\"], request.json[\"mail\"]]\n",
    "docData2 = dict(zip(keys, values))\n",
    "print(docData)\n",
    "print(docData2)\n",
    "docData == docData2"
   ]
  },
  {
   "cell_type": "code",
   "execution_count": 18,
   "metadata": {},
   "outputs": [
    {
     "output_type": "stream",
     "name": "stdout",
     "text": [
      "{0: {'id': 10, 'phone': 'B', 'mail': 'antonioimpala251196@gmail.com', 'CAP': 'B', 'city': 'B', 'street': 'B', 'n_cv': 24}, 1: {'id': 12, 'phone': 'C', 'mail': 'C', 'CAP': 'C', 'city': 'C', 'street': 'C', 'n_cv': 24}, 2: {'id': 13, 'phone': 'D', 'mail': 'D', 'CAP': 'D', 'city': 'D', 'street': 'D', 'n_cv': 24}, 3: {'id': 15, 'phone': 'E', 'mail': 'E', 'CAP': 'E', 'city': 'E', 'street': 'E', 'n_cv': 24}}\n"
     ]
    }
   ],
   "source": [
    "import Class.medicalcenter as m\n",
    "\n",
    "res = m.Medicalcenter.getMedicalcenters()\n",
    "json = {}\n",
    "for i, medical in enumerate(res):\n",
    "    json[i] = medical\n",
    "print(json)"
   ]
  },
  {
   "cell_type": "code",
   "execution_count": 36,
   "metadata": {},
   "outputs": [
    {
     "output_type": "stream",
     "name": "stdout",
     "text": [
      "09:30:00 1900-01-01 09:30:00\n"
     ]
    }
   ],
   "source": [
    "import datetime\n",
    "date = '2020-06-21'\n",
    "time = '09:30:00'\n",
    "dt = date + ' ' + time\n",
    "date_f = '%H:%M:%S'\n",
    "try:\n",
    "    tmp = datetime.datetime.strptime(time, date_f)\n",
    "    print(time, tmp)\n",
    "except:\n",
    "    print(\"Boh\")"
   ]
  },
  {
   "cell_type": "code",
   "execution_count": 21,
   "metadata": {},
   "outputs": [
    {
     "output_type": "stream",
     "name": "stdout",
     "text": [
      "2017-12-31 00:00:00\n"
     ]
    }
   ],
   "source": [
    "import datetime\n",
    "date_string = '2017-12-31'\n",
    "date_format = '%Y-%m-%d'\n",
    "try:\n",
    "  date_obj = datetime.datetime.strptime(date_string, date_format)\n",
    "  print(date_obj)\n",
    "except ValueError:\n",
    "  print(\"Incorrect data format, should be YYYY-MM-DD\")"
   ]
  },
  {
   "cell_type": "code",
   "execution_count": 9,
   "metadata": {},
   "outputs": [],
   "source": [
    "import datetime"
   ]
  },
  {
   "cell_type": "code",
   "execution_count": 13,
   "metadata": {},
   "outputs": [
    {
     "output_type": "execute_result",
     "data": {
      "text/plain": [
       "[{'CF': 'G',\n",
       "  'date': datetime.date(2020, 12, 5),\n",
       "  'swab_n': 30,\n",
       "  'avarage_time': datetime.timedelta(seconds=180)},\n",
       " {'CF': 'C',\n",
       "  'date': datetime.date(2020, 12, 4),\n",
       "  'swab_n': 20,\n",
       "  'avarage_time': datetime.timedelta(seconds=300)}]"
      ]
     },
     "metadata": {},
     "execution_count": 13
    }
   ],
   "source": [
    "lista = [{'CF': 'G', 'date': datetime.date(2020, 12, 5), 'swab_n': 30, 'avarage_time': datetime.timedelta(seconds=180)}, {'CF': 'C', 'date': datetime.date(2020, 12, 4), 'swab_n': 20, 'avarage_time': datetime.timedelta(seconds=300)}]\n",
    "lista = sorted(lista, key=lambda l: l[\"date\"], reverse=True)\n",
    "lista"
   ]
  },
  {
   "cell_type": "code",
   "execution_count": 36,
   "metadata": {},
   "outputs": [
    {
     "output_type": "display_data",
     "data": {
      "text/plain": "dict"
     },
     "metadata": {}
    },
    {
     "output_type": "stream",
     "name": "stdout",
     "text": [
      "C :  0:07:00\nG :  0:03:00\nH :  0:10:00\nI :  0:10:00\n"
     ]
    }
   ],
   "source": [
    "tmp = {'C': datetime.timedelta(seconds=420), 'G': datetime.timedelta(seconds=180), 'H': datetime.timedelta(seconds=600), 'I': datetime.timedelta(seconds=600)}\n",
    "display(type(tmp))\n",
    "for t, value in tmp.items():\n",
    "    print(t, \": \", str(value))"
   ]
  },
  {
   "cell_type": "code",
   "execution_count": 15,
   "metadata": {},
   "outputs": [
    {
     "output_type": "stream",
     "name": "stdout",
     "text": [
      "0:07:10 <class 'datetime.timedelta'>\n00:07:10 <class 'datetime.datetime'>\n00:07:00 <class 'datetime.datetime'>\n<class 'datetime.timedelta'>\n"
     ]
    }
   ],
   "source": [
    "td = datetime.timedelta(seconds=430)\n",
    "print(td, type(td))\n",
    "dt = datetime.datetime.strptime(str(td), \"%H:%M:%S\")\n",
    "print(dt.time(), type(dt))\n",
    "print(dt.time().replace(second=0), type(dt))\n",
    "print(type(td))"
   ]
  },
  {
   "cell_type": "code",
   "execution_count": null,
   "metadata": {},
   "outputs": [],
   "source": []
  }
 ],
 "metadata": {
  "kernelspec": {
   "display_name": "Python 3",
   "language": "python",
   "name": "python3"
  },
  "language_info": {
   "codemirror_mode": {
    "name": "ipython",
    "version": 3
   },
   "file_extension": ".py",
   "mimetype": "text/x-python",
   "name": "python",
   "nbconvert_exporter": "python",
   "pygments_lexer": "ipython3",
   "version": "3.8.3-final"
  }
 },
 "nbformat": 4,
 "nbformat_minor": 4
}