{
 "cells": [
  {
   "cell_type": "code",
   "execution_count": 1,
   "metadata": {},
   "outputs": [
    {
     "name": "stdout",
     "output_type": "stream",
     "text": [
      "2\n",
      "(1, 'A')\n",
      "return if assignment exists (0 is int, 1 is string)\n"
     ]
    }
   ],
   "source": [
    "def prova(*data):\n",
    "    print(len(data))\n",
    "    print(data)\n",
    "    if len(data) == 0:\n",
    "        print(\"return docs list\")\n",
    "    elif len(data) == 1:\n",
    "        if type(data[0]) == str:\n",
    "            print(\"return one doc list\")\n",
    "        else:\n",
    "            print(\"return doc in medical center\")\n",
    "    else:\n",
    "        if type(data[0]) == str:\n",
    "            print(\"return if assignment exists (0 is tring, 1 is int)\")\n",
    "        else:\n",
    "            print(\"return if assignment exists (0 is int, 1 is string)\")\n",
    "    \n",
    "prova(1,'A')"
   ]
  },
  {
   "cell_type": "code",
   "execution_count": 2,
   "metadata": {},
   "outputs": [
    {
     "name": "stdout",
     "output_type": "stream",
     "text": [
      "Help on Medicalcenter in module Class.medicalcenter object:\n",
      "\n",
      "class Medicalcenter(builtins.object)\n",
      " |  Medicalcenter(med, *password)\n",
      " |  \n",
      " |  Constructor medicalcenter class accepts a dictionary with template (first parameter) as:\n",
      " |  {\"p_IVA\": \"\",\n",
      " |  \"phone\": \"\",\n",
      " |  \"mail\": \"\",\n",
      " |  \"CAP\": \"\",\n",
      " |  \"city\": \"\",\n",
      " |  \"street\": \"\",\n",
      " |  \"n_cv\": }\n",
      " |  and password as second parameter\n",
      " |  \n",
      " |  Methods defined here:\n",
      " |  \n",
      " |  __init__(self, med, *password)\n",
      " |      Initialize self.  See help(type(self)) for accurate signature.\n",
      " |  \n",
      " |  deleteMedicalcenter(self)\n",
      " |  \n",
      " |  getMedicalcenter(self)\n",
      " |  \n",
      " |  getPassword(self)\n",
      " |  \n",
      " |  insertMedicalcenter(self)\n",
      " |  \n",
      " |  updateMedicalcenter(self, med)\n",
      " |  \n",
      " |  updatePassword(self, password)\n",
      " |  \n",
      " |  ----------------------------------------------------------------------\n",
      " |  Data descriptors defined here:\n",
      " |  \n",
      " |  __dict__\n",
      " |      dictionary for instance variables (if defined)\n",
      " |  \n",
      " |  __weakref__\n",
      " |      list of weak references to the object (if defined)\n",
      "\n",
      "Constructor medicalcenter class accepts a dictionary with template (first parameter) as:\n",
      "    {\"p_IVA\": \"\",\n",
      "    \"phone\": \"\",\n",
      "    \"mail\": \"\",\n",
      "    \"CAP\": \"\",\n",
      "    \"city\": \"\",\n",
      "    \"street\": \"\",\n",
      "    \"n_cv\": }\n",
      "    and password as second parameter\n"
     ]
    },
    {
     "data": {
      "text/plain": [
       "{'id': 1,\n",
       " 'p_IVA': '15264',\n",
       " 'phone': 'A',\n",
       " 'mail': 'A',\n",
       " 'CAP': 'A',\n",
       " 'city': 'A',\n",
       " 'street': 'A',\n",
       " 'n_cv': 25}"
      ]
     },
     "execution_count": 2,
     "metadata": {},
     "output_type": "execute_result"
    }
   ],
   "source": [
    "import Class.medicalcenter as medicalcenter\n",
    "\n",
    "help(medicalcenter.Medicalcenter(1))\n",
    "print(medicalcenter.Medicalcenter(1).__doc__)\n",
    "med = medicalcenter.Medicalcenter(1)\n",
    "med.getMedicalcenter()"
   ]
  },
  {
   "cell_type": "code",
   "execution_count": 3,
   "metadata": {},
   "outputs": [
    {
     "name": "stdout",
     "output_type": "stream",
     "text": [
      "{'CF': 'A', 'name': 'A', 'surname': 'A', 'phone': 'A', 'mail': 'A@ok', 'age': 25, 'CAP': 'A', 'city': 'A', 'street': 'A', 'n_cv': 25}\n"
     ]
    }
   ],
   "source": [
    "import Class.user as u\n",
    "user = u.User('A')\n",
    "print(user.getUser())"
   ]
  },
  {
   "cell_type": "code",
   "execution_count": null,
   "metadata": {},
   "outputs": [],
   "source": []
  }
 ],
 "metadata": {
  "kernelspec": {
   "display_name": "Python 3",
   "language": "python",
   "name": "python3"
  },
  "language_info": {
   "codemirror_mode": {
    "name": "ipython",
    "version": 3
   },
   "file_extension": ".py",
   "mimetype": "text/x-python",
   "name": "python",
   "nbconvert_exporter": "python",
   "pygments_lexer": "ipython3",
   "version": "3.8.3"
  }
 },
 "nbformat": 4,
 "nbformat_minor": 4
}
