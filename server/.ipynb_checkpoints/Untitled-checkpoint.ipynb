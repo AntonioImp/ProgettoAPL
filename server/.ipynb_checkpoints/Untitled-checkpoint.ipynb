{
 "cells": [
  {
   "cell_type": "code",
   "execution_count": 1,
   "metadata": {},
   "outputs": [
    {
     "name": "stdout",
     "output_type": "stream",
     "text": [
      "2\n",
      "(1, 'A')\n",
      "return if assignment exists (0 is int, 1 is string)\n"
     ]
    }
   ],
   "source": [
    "def prova(*data):\n",
    "    print(len(data))\n",
    "    print(data)\n",
    "    if len(data) == 0:\n",
    "        print(\"return docs list\")\n",
    "    elif len(data) == 1:\n",
    "        if type(data[0]) == str:\n",
    "            print(\"return one doc list\")\n",
    "        else:\n",
    "            print(\"return doc in medical center\")\n",
    "    else:\n",
    "        if type(data[0]) == str:\n",
    "            print(\"return if assignment exists (0 is tring, 1 is int)\")\n",
    "        else:\n",
    "            print(\"return if assignment exists (0 is int, 1 is string)\")\n",
    "    \n",
    "prova(1,'A')"
   ]
  },
  {
   "cell_type": "code",
   "execution_count": 2,
   "metadata": {},
   "outputs": [
    {
     "data": {
      "text/plain": [
       "False"
      ]
     },
     "execution_count": 2,
     "metadata": {},
     "output_type": "execute_result"
    }
   ],
   "source": [
    "import Class.medicalcenter as medicalcenter\n",
    "\n",
    "#help(medicalcenter.Medicalcenter(1))\n",
    "#print(medicalcenter.Medicalcenter(1).__doc__)\n",
    "med = medicalcenter.Medicalcenter(1)\n",
    "med.getMedicalcenter()"
   ]
  },
  {
   "cell_type": "code",
   "execution_count": 3,
   "metadata": {},
   "outputs": [
    {
     "name": "stdout",
     "output_type": "stream",
     "text": [
      "{'CF': 'A', 'name': 'A', 'surname': 'A', 'phone': 'A', 'mail': 'A@ok', 'age': 25, 'CAP': 'A', 'city': 'A', 'street': 'A', 'n_cv': 25}\n"
     ]
    }
   ],
   "source": [
    "import Class.user as u\n",
    "user = u.User('A')\n",
    "print(user.getUser())"
   ]
  },
  {
   "cell_type": "code",
   "execution_count": 4,
   "metadata": {},
   "outputs": [
    {
     "data": {
      "text/plain": [
       "10"
      ]
     },
     "execution_count": 4,
     "metadata": {},
     "output_type": "execute_result"
    }
   ],
   "source": [
    "token = \"123456789 \"\n",
    "len(token)"
   ]
  },
  {
   "cell_type": "code",
   "execution_count": 5,
   "metadata": {},
   "outputs": [
    {
     "name": "stdout",
     "output_type": "stream",
     "text": [
      "True\n"
     ]
    }
   ],
   "source": [
    "conf = (2 == 2)\n",
    "print(conf)"
   ]
  },
  {
   "cell_type": "code",
   "execution_count": 7,
   "metadata": {},
   "outputs": [
    {
     "name": "stdout",
     "output_type": "stream",
     "text": [
      "{'CF': 'A', 'name': 'A', 'surname': 'A', 'phone': 'A', 'mail': 'A'}\n",
      "{'CF': 'A', 'name': 'A', 'surname': 'A', 'phone': 'A', 'mail': 'A'}\n"
     ]
    },
    {
     "data": {
      "text/plain": [
       "True"
      ]
     },
     "execution_count": 7,
     "metadata": {},
     "output_type": "execute_result"
    }
   ],
   "source": [
    "docData = {\n",
    "            'CF': \"A\",\n",
    "            'name': \"A\",\n",
    "            'surname': \"A\",\n",
    "            'phone': \"A\",\n",
    "            'mail': \"A\"\n",
    "        }\n",
    "keys = ['CF', 'name', 'surname', 'phone', 'mail']\n",
    "values = [request.json[\"CF\"], request.json[\"name\"], request.json[\"surname\"], request.json[\"phone\"], request.json[\"mail\"]]\n",
    "docData2 = dict(zip(keys, values))\n",
    "print(docData)\n",
    "print(docData2)\n",
    "docData == docData2"
   ]
  },
  {
   "cell_type": "code",
   "execution_count": null,
   "metadata": {},
   "outputs": [],
   "source": []
  },
  {
   "cell_type": "code",
   "execution_count": null,
   "metadata": {},
   "outputs": [],
   "source": []
  }
 ],
 "metadata": {
  "kernelspec": {
   "display_name": "Python 3",
   "language": "python",
   "name": "python3"
  },
  "language_info": {
   "codemirror_mode": {
    "name": "ipython",
    "version": 3
   },
   "file_extension": ".py",
   "mimetype": "text/x-python",
   "name": "python",
   "nbconvert_exporter": "python",
   "pygments_lexer": "ipython3",
   "version": "3.8.3"
  }
 },
 "nbformat": 4,
 "nbformat_minor": 4
}
